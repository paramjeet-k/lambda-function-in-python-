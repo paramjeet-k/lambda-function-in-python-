{
 "cells": [
  {
   "cell_type": "code",
   "execution_count": 1,
   "id": "fec85564-3005-44a8-81b5-3f9aa6fe8a98",
   "metadata": {},
   "outputs": [],
   "source": [
    "n = 3\n",
    "p = 2"
   ]
  },
  {
   "cell_type": "code",
   "execution_count": 2,
   "id": "aeabb51b-06a5-4667-858e-15667d076b23",
   "metadata": {},
   "outputs": [],
   "source": [
    "def test(n,p):\n",
    "    return n**p"
   ]
  },
  {
   "cell_type": "code",
   "execution_count": 3,
   "id": "a25136c1-8f31-41bc-a30f-b0daf7fadd53",
   "metadata": {},
   "outputs": [
    {
     "data": {
      "text/plain": [
       "9"
      ]
     },
     "execution_count": 3,
     "metadata": {},
     "output_type": "execute_result"
    }
   ],
   "source": [
    "test(3,2)"
   ]
  },
  {
   "cell_type": "code",
   "execution_count": 5,
   "id": "62f8b204-058b-476c-8ab0-a640855b80d7",
   "metadata": {},
   "outputs": [],
   "source": [
    "a = lambda n,p: n**p"
   ]
  },
  {
   "cell_type": "code",
   "execution_count": 7,
   "id": "7b672715-f39f-40a7-898c-3c0e475f7d36",
   "metadata": {},
   "outputs": [
    {
     "data": {
      "text/plain": [
       "9"
      ]
     },
     "execution_count": 7,
     "metadata": {},
     "output_type": "execute_result"
    }
   ],
   "source": [
    "a(3,2)"
   ]
  },
  {
   "cell_type": "code",
   "execution_count": 8,
   "id": "5ffc5df9-20be-41c8-ac70-a2b30927c28c",
   "metadata": {},
   "outputs": [],
   "source": [
    "add = lambda x,y: x+y"
   ]
  },
  {
   "cell_type": "code",
   "execution_count": 9,
   "id": "ba8e9d8c-50e9-407e-86d6-b543e6c2c7c3",
   "metadata": {},
   "outputs": [
    {
     "data": {
      "text/plain": [
       "9"
      ]
     },
     "execution_count": 9,
     "metadata": {},
     "output_type": "execute_result"
    }
   ],
   "source": [
    "add(4,5)"
   ]
  },
  {
   "cell_type": "code",
   "execution_count": 10,
   "id": "0fbc7af0-5135-4519-b421-fb40368e1a62",
   "metadata": {},
   "outputs": [],
   "source": [
    "multiply = lambda a,b:a*b"
   ]
  },
  {
   "cell_type": "code",
   "execution_count": 12,
   "id": "5813113e-6fe7-46af-875c-2613283e9b78",
   "metadata": {},
   "outputs": [
    {
     "data": {
      "text/plain": [
       "1134"
      ]
     },
     "execution_count": 12,
     "metadata": {},
     "output_type": "execute_result"
    }
   ],
   "source": [
    "multiply(2,567)"
   ]
  },
  {
   "cell_type": "code",
   "execution_count": 13,
   "id": "08adafb3-ae6b-45d9-8ab7-a59044cc7afb",
   "metadata": {},
   "outputs": [
    {
     "data": {
      "text/plain": [
       "114"
      ]
     },
     "execution_count": 13,
     "metadata": {},
     "output_type": "execute_result"
    }
   ],
   "source": [
    "multiply(2,57)"
   ]
  },
  {
   "cell_type": "code",
   "execution_count": 14,
   "id": "8472d2db-961b-43b5-a560-aa682cd987c1",
   "metadata": {},
   "outputs": [],
   "source": [
    "c_to_f = lambda c : (9/5)*c +32"
   ]
  },
  {
   "cell_type": "code",
   "execution_count": 15,
   "id": "9aa3b2bd-cc0b-4829-87bf-959dd7e21334",
   "metadata": {},
   "outputs": [
    {
     "data": {
      "text/plain": [
       "113.0"
      ]
     },
     "execution_count": 15,
     "metadata": {},
     "output_type": "execute_result"
    }
   ],
   "source": [
    "c_to_f(45)"
   ]
  },
  {
   "cell_type": "code",
   "execution_count": 16,
   "id": "3b3cb77f-f29a-4410-8690-d106f00e8492",
   "metadata": {},
   "outputs": [],
   "source": [
    "finding_max = lambda x,y: x if x > y else y"
   ]
  },
  {
   "cell_type": "code",
   "execution_count": 17,
   "id": "00356e93-98e2-4dcd-8c00-dde7f420cf51",
   "metadata": {},
   "outputs": [
    {
     "data": {
      "text/plain": [
       "34"
      ]
     },
     "execution_count": 17,
     "metadata": {},
     "output_type": "execute_result"
    }
   ],
   "source": [
    "finding_max(9,34)"
   ]
  },
  {
   "cell_type": "code",
   "execution_count": 18,
   "id": "0c89f6e1-304e-431f-9a26-9717a677ef1e",
   "metadata": {},
   "outputs": [],
   "source": [
    "s = \"pwskills\""
   ]
  },
  {
   "cell_type": "code",
   "execution_count": 19,
   "id": "1b7fb227-ad59-490b-87e5-5db67a65e9c6",
   "metadata": {},
   "outputs": [],
   "source": [
    "find_len = lambda s : len(s)"
   ]
  },
  {
   "cell_type": "code",
   "execution_count": 20,
   "id": "d85e61b6-03f0-45e5-8681-efced728ec5f",
   "metadata": {},
   "outputs": [
    {
     "data": {
      "text/plain": [
       "8"
      ]
     },
     "execution_count": 20,
     "metadata": {},
     "output_type": "execute_result"
    }
   ],
   "source": [
    "find_len(s)"
   ]
  }
 ],
 "metadata": {
  "kernelspec": {
   "display_name": "Python 3 (ipykernel)",
   "language": "python",
   "name": "python3"
  },
  "language_info": {
   "codemirror_mode": {
    "name": "ipython",
    "version": 3
   },
   "file_extension": ".py",
   "mimetype": "text/x-python",
   "name": "python",
   "nbconvert_exporter": "python",
   "pygments_lexer": "ipython3",
   "version": "3.10.8"
  }
 },
 "nbformat": 4,
 "nbformat_minor": 5
}
